{
 "cells": [
  {
   "cell_type": "markdown",
   "metadata": {},
   "source": [
    "# VedaRT Deterministic Debugging\n",
    "\n",
    "This notebook demonstrates VedaRT's deterministic execution mode for debugging parallel code.\n",
    "\n",
    "## Key Features\n",
    "\n",
    "- 🎯 **Reproducible execution** - Same seed = same results every time\n",
    "- 🐛 **Debug parallel bugs** - Eliminate race conditions during debugging\n",
    "- 📝 **Execution tracing** - Record and replay execution timelines\n",
    "- ✅ **Testing support** - Write reliable tests for parallel code\n",
    "\n",
    "---"
   ]
  },
  {
   "cell_type": "code",
   "execution_count": null,
   "metadata": {},
   "outputs": [],
   "source": [
    "# Install VedaRT if needed\n",
    "# !pip install vedart\n",
    "\n",
    "import vedart as veda\n",
    "import random\n",
    "import time\n",
    "from typing import List"
   ]
  },
  {
   "cell_type": "markdown",
   "metadata": {},
   "source": [
    "## Example 1: The Problem - Non-Deterministic Parallel Code\n",
    "\n",
    "Without deterministic mode, parallel code can behave differently on each run due to:\n",
    "- Thread scheduling variations\n",
    "- Race conditions\n",
    "- Random number generation\n",
    "- System load"
   ]
  },
  {
   "cell_type": "code",
   "execution_count": null,
   "metadata": {},
   "outputs": [],
   "source": [
    "def buggy_computation(x: int) -> int:\n",
    "    \"\"\"Simulates a computation with hidden randomness.\"\"\"\n",
    "    # Simulate variable execution time\n",
    "    time.sleep(random.uniform(0.001, 0.01))\n",
    "    \n",
    "    # Random perturbation (simulates a bug)\n",
    "    noise = random.randint(-2, 2)\n",
    "    \n",
    "    return x * 2 + noise\n",
    "\n",
    "# Run multiple times - notice different results\n",
    "print(\"Without deterministic mode:\")\n",
    "for run in range(3):\n",
    "    result = veda.par_iter(range(10)).map(buggy_computation).collect()\n",
    "    print(f\"  Run {run+1}: {result[:5]}...\")  # First 5 elements"
   ]
  },
  {
   "cell_type": "markdown",
   "metadata": {},
   "source": [
    "**Notice**: Results vary between runs! This makes debugging nearly impossible."
   ]
  },
  {
   "cell_type": "markdown",
   "metadata": {},
   "source": [
    "## Example 2: The Solution - Deterministic Mode\n",
    "\n",
    "With `veda.deterministic(seed=...)`, execution is reproducible:"
   ]
  },
  {
   "cell_type": "code",
   "execution_count": null,
   "metadata": {},
   "outputs": [],
   "source": [
    "print(\"\\nWith deterministic mode (seed=42):\")\n",
    "for run in range(3):\n",
    "    with veda.deterministic(seed=42):\n",
    "        result = veda.par_iter(range(10)).map(buggy_computation).collect()\n",
    "    print(f\"  Run {run+1}: {result[:5]}...\")  # First 5 elements"
   ]
  },
  {
   "cell_type": "markdown",
   "metadata": {},
   "source": [
    "**Notice**: Identical results on every run! Now we can debug reliably."
   ]
  },
  {
   "cell_type": "markdown",
   "metadata": {},
   "source": [
    "## Example 3: Finding Bugs with Deterministic Mode\n",
    "\n",
    "Let's use determinism to debug a subtle parallel bug:"
   ]
  },
  {
   "cell_type": "code",
   "execution_count": null,
   "metadata": {},
   "outputs": [],
   "source": [
    "# Shared state (bug!)\n",
    "counter = {\"value\": 0}\n",
    "\n",
    "def increment_counter(x: int) -> int:\n",
    "    \"\"\"Has a race condition on shared state.\"\"\"\n",
    "    # Read-modify-write race condition\n",
    "    current = counter[\"value\"]\n",
    "    time.sleep(0.001)  # Simulate work\n",
    "    counter[\"value\"] = current + 1\n",
    "    return x * 2\n",
    "\n",
    "# Without deterministic mode\n",
    "print(\"Non-deterministic runs:\")\n",
    "for run in range(3):\n",
    "    counter[\"value\"] = 0\n",
    "    result = veda.par_iter(range(10)).map(increment_counter).collect()\n",
    "    print(f\"  Run {run+1}: counter = {counter['value']} (expected 10)\")\n",
    "\n",
    "print(\"\\nDeterministic runs (seed=123):\")\n",
    "for run in range(3):\n",
    "    counter[\"value\"] = 0\n",
    "    with veda.deterministic(seed=123):\n",
    "        result = veda.par_iter(range(10)).map(increment_counter).collect()\n",
    "    print(f\"  Run {run+1}: counter = {counter['value']} (expected 10, bug is now reproducible!)\")"
   ]
  },
  {
   "cell_type": "markdown",
   "metadata": {},
   "source": [
    "**Key Insight**: The race condition is now reproducible! We can:\n",
    "1. Set breakpoints\n",
    "2. Add logging\n",
    "3. Inspect state reliably\n",
    "4. Fix the bug (use proper synchronization)"
   ]
  },
  {
   "cell_type": "markdown",
   "metadata": {},
   "source": [
    "## Example 4: Execution Tracing\n",
    "\n",
    "Record execution timeline for later analysis:"
   ]
  },
  {
   "cell_type": "code",
   "execution_count": null,
   "metadata": {},
   "outputs": [],
   "source": [
    "import tempfile\n",
    "import os\n",
    "\n",
    "def traced_computation(x: int) -> int:\n",
    "    \"\"\"A computation we want to trace.\"\"\"\n",
    "    time.sleep(random.uniform(0.01, 0.05))\n",
    "    return x ** 2\n",
    "\n",
    "# Create trace file\n",
    "trace_file = os.path.join(tempfile.gettempdir(), \"vedart_trace.json\")\n",
    "\n",
    "print(f\"Recording trace to: {trace_file}\")\n",
    "\n",
    "# Record execution\n",
    "with veda.deterministic(seed=42, trace_file=trace_file):\n",
    "    result = veda.par_iter(range(20)).map(traced_computation).collect()\n",
    "\n",
    "print(f\"\\nFirst 10 results: {result[:10]}\")\n",
    "print(f\"Trace saved to: {trace_file}\")\n",
    "print(f\"Trace size: {os.path.getsize(trace_file) if os.path.exists(trace_file) else 'N/A'} bytes\")"
   ]
  },
  {
   "cell_type": "markdown",
   "metadata": {},
   "source": [
    "## Example 5: Comparing Different Seeds\n",
    "\n",
    "Different seeds produce different (but reproducible) executions:"
   ]
  },
  {
   "cell_type": "code",
   "execution_count": null,
   "metadata": {},
   "outputs": [],
   "source": [
    "def random_computation(x: int) -> int:\n",
    "    return x + random.randint(0, 10)\n",
    "\n",
    "seeds = [42, 123, 999]\n",
    "\n",
    "print(\"Different seeds produce different (but reproducible) results:\\n\")\n",
    "\n",
    "for seed in seeds:\n",
    "    # Run twice with same seed\n",
    "    results = []\n",
    "    for _ in range(2):\n",
    "        with veda.deterministic(seed=seed):\n",
    "            result = veda.par_iter(range(5)).map(random_computation).collect()\n",
    "        results.append(result)\n",
    "    \n",
    "    # Verify reproducibility\n",
    "    assert results[0] == results[1], f\"Seed {seed} not reproducible!\"\n",
    "    print(f\"Seed {seed:3d}: {results[0]} (reproducible: ✓)\")"
   ]
  },
  {
   "cell_type": "markdown",
   "metadata": {},
   "source": [
    "## Example 6: Testing Parallel Code\n",
    "\n",
    "Write reliable tests for parallel algorithms:"
   ]
  },
  {
   "cell_type": "code",
   "execution_count": null,
   "metadata": {},
   "outputs": [],
   "source": [
    "def parallel_sort_test():\n",
    "    \"\"\"Test a parallel sorting algorithm.\"\"\"\n",
    "    \n",
    "    def parallel_partition(items: List[int]) -> List[int]:\n",
    "        \"\"\"Parallel quicksort-style partition.\"\"\"\n",
    "        if len(items) <= 1:\n",
    "            return items\n",
    "        \n",
    "        pivot = items[len(items) // 2]\n",
    "        \n",
    "        # Parallel partition\n",
    "        with veda.scope() as s:\n",
    "            left_future = s.spawn(lambda: [x for x in items if x < pivot])\n",
    "            right_future = s.spawn(lambda: [x for x in items if x > pivot])\n",
    "            results = s.wait_all()\n",
    "        \n",
    "        left, right = results\n",
    "        middle = [x for x in items if x == pivot]\n",
    "        \n",
    "        return left + middle + right\n",
    "    \n",
    "    # Test with deterministic mode\n",
    "    test_data = [random.randint(0, 100) for _ in range(20)]\n",
    "    \n",
    "    with veda.deterministic(seed=42):\n",
    "        result = parallel_partition(test_data)\n",
    "    \n",
    "    expected = sorted(test_data)\n",
    "    \n",
    "    if result == expected:\n",
    "        print(\"✓ Parallel sort test PASSED\")\n",
    "        print(f\"  Input:  {test_data[:10]}...\")\n",
    "        print(f\"  Output: {result[:10]}...\")\n",
    "    else:\n",
    "        print(\"✗ Parallel sort test FAILED\")\n",
    "        print(f\"  Expected: {expected[:10]}...\")\n",
    "        print(f\"  Got:      {result[:10]}...\")\n",
    "\n",
    "parallel_sort_test()"
   ]
  },
  {
   "cell_type": "markdown",
   "metadata": {},
   "source": [
    "## Example 7: Performance Impact\n",
    "\n",
    "Measure the overhead of deterministic mode:"
   ]
  },
  {
   "cell_type": "code",
   "execution_count": null,
   "metadata": {},
   "outputs": [],
   "source": [
    "import time\n",
    "\n",
    "def benchmark_task(x: int) -> int:\n",
    "    \"\"\"Simple computation for benchmarking.\"\"\"\n",
    "    return sum(i * i for i in range(x))\n",
    "\n",
    "num_tasks = 1000\n",
    "task_range = range(100, 200)\n",
    "\n",
    "# Benchmark normal mode\n",
    "start = time.perf_counter()\n",
    "result_normal = veda.par_iter(task_range).map(benchmark_task).sum()\n",
    "time_normal = time.perf_counter() - start\n",
    "\n",
    "# Benchmark deterministic mode\n",
    "start = time.perf_counter()\n",
    "with veda.deterministic(seed=42):\n",
    "    result_det = veda.par_iter(task_range).map(benchmark_task).sum()\n",
    "time_det = time.perf_counter() - start\n",
    "\n",
    "overhead_pct = ((time_det - time_normal) / time_normal) * 100\n",
    "\n",
    "print(f\"Performance Comparison:\")\n",
    "print(f\"  Normal mode:        {time_normal:.3f}s\")\n",
    "print(f\"  Deterministic mode: {time_det:.3f}s\")\n",
    "print(f\"  Overhead:           {overhead_pct:.1f}%\")\n",
    "print(f\"\\n  Results match: {result_normal == result_det}\")"
   ]
  },
  {
   "cell_type": "markdown",
   "metadata": {},
   "source": [
    "## Example 8: Nested Parallel Operations\n",
    "\n",
    "Determinism works with nested parallel operations:"
   ]
  },
  {
   "cell_type": "code",
   "execution_count": null,
   "metadata": {},
   "outputs": [],
   "source": [
    "def outer_task(x: int) -> int:\n",
    "    \"\"\"Task that spawns inner parallel work.\"\"\"\n",
    "    # Inner parallel computation\n",
    "    inner_result = veda.par_iter(range(x)).map(lambda i: i * 2).sum()\n",
    "    return inner_result + random.randint(0, 5)\n",
    "\n",
    "print(\"Nested parallel operations with determinism:\\n\")\n",
    "\n",
    "for run in range(3):\n",
    "    with veda.deterministic(seed=999):\n",
    "        result = veda.par_iter(range(5)).map(outer_task).collect()\n",
    "    print(f\"  Run {run+1}: {result}\")\n",
    "\n",
    "print(\"\\n✓ All runs produce identical results!\")"
   ]
  },
  {
   "cell_type": "markdown",
   "metadata": {},
   "source": [
    "## Best Practices\n",
    "\n",
    "### ✅ When to Use Deterministic Mode\n",
    "\n",
    "1. **Debugging parallel bugs** - Make race conditions reproducible\n",
    "2. **Writing tests** - Ensure test reliability\n",
    "3. **Performance analysis** - Compare different implementations fairly\n",
    "4. **Benchmarking** - Reduce variance between runs\n",
    "\n",
    "### ⚠️ Limitations\n",
    "\n",
    "1. **Not bitwise deterministic** - Floating-point operations may still vary\n",
    "2. **External I/O** - Network calls, file timestamps are non-deterministic\n",
    "3. **System state** - External processes, hardware variations can affect results\n",
    "4. **Performance overhead** - Adds 10-25% overhead (acceptable for debugging)\n",
    "\n",
    "### 💡 Tips\n",
    "\n",
    "- Use different seeds to explore different execution paths\n",
    "- Enable tracing only when needed (performance impact)\n",
    "- Document the seed used in bug reports\n",
    "- Disable in production (use for dev/test only)"
   ]
  },
  {
   "cell_type": "markdown",
   "metadata": {},
   "source": [
    "## Summary\n",
    "\n",
    "VedaRT's deterministic mode transforms parallel debugging:\n",
    "\n",
    "| Feature | Without Determinism | With Determinism |\n",
    "|---------|---------------------|------------------|\n",
    "| **Reproducibility** | ❌ Varies each run | ✅ Same results |\n",
    "| **Debugging** | 😰 Heisenbug nightmare | 😊 Reliable breakpoints |\n",
    "| **Testing** | ⚠️ Flaky tests | ✅ Stable tests |\n",
    "| **Performance** | 100% | ~85-90% (acceptable) |\n",
    "\n",
    "---\n",
    "\n",
    "## Next Steps\n",
    "\n",
    "- Try deterministic mode with your own parallel code\n",
    "- Write tests using `veda.deterministic()`\n",
    "- Experiment with execution tracing\n",
    "- Read the [determinism guarantees documentation](../../docs/guarantees.md)\n",
    "\n",
    "Happy debugging! 🐛🔍"
   ]
  }
 ],
 "metadata": {
  "kernelspec": {
   "display_name": "Python 3",
   "language": "python",
   "name": "python3"
  },
  "language_info": {
   "codemirror_mode": {
    "name": "ipython",
    "version": 3
   },
   "file_extension": ".py",
   "mimetype": "text/x-python",
   "name": "python",
   "nbconvert_exporter": "python",
   "pygments_lexer": "ipython3",
   "version": "3.11.0"
  }
 },
 "nbformat": 4,
 "nbformat_minor": 4
}
